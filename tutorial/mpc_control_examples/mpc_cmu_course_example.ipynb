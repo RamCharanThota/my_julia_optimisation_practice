{
 "cells": [
  {
   "cell_type": "code",
   "execution_count": 5,
   "id": "b3145775",
   "metadata": {},
   "outputs": [
    {
     "name": "stderr",
     "output_type": "stream",
     "text": [
      "\u001b[32m\u001b[1m  Activating\u001b[22m\u001b[39m environment at `~/all_about_robotics/julia_optimisation_course/tutorial/mpc_control_examples/Project.toml`\n",
      "\u001b[32m\u001b[1mPrecompiling\u001b[22m\u001b[39m project...\n",
      "\u001b[32m  ✓ \u001b[39m\u001b[90mCodecBzip2\u001b[39m\n",
      "\u001b[32m  ✓ \u001b[39m\u001b[90mIntelOpenMP_jll\u001b[39m\n",
      "\u001b[32m  ✓ \u001b[39m\u001b[90mDualNumbers\u001b[39m\n",
      "\u001b[32m  ✓ \u001b[39m\u001b[90mOSQP_jll\u001b[39m\n",
      "\u001b[32m  ✓ \u001b[39m\u001b[90mlibblastrampoline_jll\u001b[39m\n",
      "\u001b[32m  ✓ \u001b[39m\u001b[90mEarCut_jll\u001b[39m\n",
      "\u001b[32m  ✓ \u001b[39m\u001b[90mRmath_jll\u001b[39m\n",
      "\u001b[32m  ✓ \u001b[39m\u001b[90mMKL_jll\u001b[39m\n",
      "\u001b[32m  ✓ \u001b[39m\u001b[90mRmath\u001b[39m\n",
      "\u001b[32m  ✓ \u001b[39m\u001b[90mPreallocationTools\u001b[39m\n",
      "\u001b[32m  ✓ \u001b[39m\u001b[90mNLSolversBase\u001b[39m\n",
      "\u001b[32m  ✓ \u001b[39m\u001b[90mHypergeometricFunctions\u001b[39m\n",
      "\u001b[32m  ✓ \u001b[39m\u001b[90mSparseDiffTools\u001b[39m\n",
      "\u001b[32m  ✓ \u001b[39m\u001b[90mStatsFuns\u001b[39m\n",
      "\u001b[32m  ✓ \u001b[39m\u001b[90mFFTW\u001b[39m\n",
      "\u001b[32m  ✓ \u001b[39m\u001b[90mLineSearches\u001b[39m\n",
      "\u001b[32m  ✓ \u001b[39mRobotDynamics\n",
      "\u001b[32m  ✓ \u001b[39m\u001b[90mNLsolve\u001b[39m\n",
      "\u001b[32m  ✓ \u001b[39m\u001b[90mGeometryBasics\u001b[39m\n",
      "\u001b[32m  ✓ \u001b[39m\u001b[90mDSP\u001b[39m\n",
      "\u001b[32m  ✓ \u001b[39mRobotZoo\n",
      "\u001b[32m  ✓ \u001b[39m\u001b[90mDistributions\u001b[39m\n",
      "\u001b[32m  ✓ \u001b[39mMeshCat\n",
      "\u001b[32m  ✓ \u001b[39m\u001b[90mLoopVectorization\u001b[39m\n",
      "\u001b[32m  ✓ \u001b[39m\u001b[90mDiffEqBase\u001b[39m\n",
      "\u001b[32m  ✓ \u001b[39m\u001b[90mExponentialUtilities\u001b[39m\n",
      "\u001b[32m  ✓ \u001b[39m\u001b[90mTriangularSolve\u001b[39m\n",
      "\u001b[32m  ✓ \u001b[39m\u001b[90mSciMLNLSolve\u001b[39m\n",
      "\u001b[32m  ✓ \u001b[39m\u001b[90mDiffEqCallbacks\u001b[39m\n",
      "\u001b[32m  ✓ \u001b[39m\u001b[90mSimpleNonlinearSolve\u001b[39m\n",
      "\u001b[32m  ✓ \u001b[39m\u001b[90mControlSystemsBase\u001b[39m\n",
      "\u001b[32m  ✓ \u001b[39m\u001b[90mRecursiveFactorization\u001b[39m\n",
      "\u001b[32m  ✓ \u001b[39m\u001b[90mMathOptInterface\u001b[39m\n",
      "\u001b[32m  ✓ \u001b[39mOSQP\n",
      "\u001b[32m  ✓ \u001b[39m\u001b[90mLinearSolve\u001b[39m\n",
      "\u001b[32m  ✓ \u001b[39m\u001b[90mNonlinearSolve\u001b[39m\n",
      "\u001b[32m  ✓ \u001b[39m\u001b[90mOrdinaryDiffEq\u001b[39m\n",
      "\u001b[32m  ✓ \u001b[39m\u001b[90mDelayDiffEq\u001b[39m\n",
      "\u001b[32m  ✓ \u001b[39mControlSystems\n",
      "  39 dependencies successfully precompiled in 186 seconds (189 already precompiled)\n",
      "\u001b[32m\u001b[1m   Resolving\u001b[22m\u001b[39m package versions...\n",
      "\u001b[32m\u001b[1m    Updating\u001b[22m\u001b[39m `~/all_about_robotics/julia_optimisation_course/tutorial/mpc_control_examples/Project.toml`\n",
      " \u001b[90m [f6369f11] \u001b[39m\u001b[92m+ ForwardDiff v0.10.36\u001b[39m\n",
      "\u001b[32m\u001b[1m  No Changes\u001b[22m\u001b[39m to `~/all_about_robotics/julia_optimisation_course/tutorial/mpc_control_examples/Manifest.toml`\n",
      "\u001b[32m\u001b[1mPrecompiling\u001b[22m\u001b[39m project...\n",
      "\u001b[32m  ✓ \u001b[39m\u001b[90mCodecBzip2\u001b[39m\n",
      "\u001b[32m  ✓ \u001b[39m\u001b[90mIntelOpenMP_jll\u001b[39m\n",
      "\u001b[32m  ✓ \u001b[39m\u001b[90mDualNumbers\u001b[39m\n",
      "\u001b[32m  ✓ \u001b[39m\u001b[90mlibblastrampoline_jll\u001b[39m\n",
      "\u001b[32m  ✓ \u001b[39m\u001b[90mRmath_jll\u001b[39m\n",
      "\u001b[32m  ✓ \u001b[39m\u001b[90mOSQP_jll\u001b[39m\n",
      "\u001b[32m  ✓ \u001b[39m\u001b[90mEarCut_jll\u001b[39m\n",
      "\u001b[32m  ✓ \u001b[39m\u001b[90mMKL_jll\u001b[39m\n",
      "\u001b[32m  ✓ \u001b[39m\u001b[90mRmath\u001b[39m\n",
      "\u001b[32m  ✓ \u001b[39m\u001b[90mPreallocationTools\u001b[39m\n",
      "\u001b[32m  ✓ \u001b[39m\u001b[90mHypergeometricFunctions\u001b[39m\n",
      "\u001b[32m  ✓ \u001b[39m\u001b[90mNLSolversBase\u001b[39m\n",
      "\u001b[32m  ✓ \u001b[39m\u001b[90mSparseDiffTools\u001b[39m\n",
      "\u001b[32m  ✓ \u001b[39m\u001b[90mStatsFuns\u001b[39m\n",
      "\u001b[32m  ✓ \u001b[39m\u001b[90mFFTW\u001b[39m\n",
      "\u001b[32m  ✓ \u001b[39m\u001b[90mLineSearches\u001b[39m\n",
      "\u001b[32m  ✓ \u001b[39mRobotDynamics\n",
      "\u001b[32m  ✓ \u001b[39m\u001b[90mNLsolve\u001b[39m\n",
      "\u001b[32m  ✓ \u001b[39m\u001b[90mGeometryBasics\u001b[39m\n",
      "\u001b[32m  ✓ \u001b[39m\u001b[90mDSP\u001b[39m\n",
      "\u001b[32m  ✓ \u001b[39mRobotZoo\n",
      "\u001b[32m  ✓ \u001b[39m\u001b[90mDistributions\u001b[39m\n",
      "\u001b[32m  ✓ \u001b[39mMeshCat\n",
      "\u001b[32m  ✓ \u001b[39m\u001b[90mLoopVectorization\u001b[39m\n",
      "\u001b[32m  ✓ \u001b[39m\u001b[90mDiffEqBase\u001b[39m\n",
      "\u001b[32m  ✓ \u001b[39m\u001b[90mExponentialUtilities\u001b[39m\n",
      "\u001b[32m  ✓ \u001b[39m\u001b[90mTriangularSolve\u001b[39m\n",
      "\u001b[32m  ✓ \u001b[39m\u001b[90mSciMLNLSolve\u001b[39m\n",
      "\u001b[32m  ✓ \u001b[39m\u001b[90mDiffEqCallbacks\u001b[39m\n",
      "\u001b[32m  ✓ \u001b[39m\u001b[90mSimpleNonlinearSolve\u001b[39m\n",
      "\u001b[32m  ✓ \u001b[39m\u001b[90mControlSystemsBase\u001b[39m\n",
      "\u001b[32m  ✓ \u001b[39m\u001b[90mRecursiveFactorization\u001b[39m\n",
      "\u001b[32m  ✓ \u001b[39m\u001b[90mMathOptInterface\u001b[39m\n",
      "\u001b[32m  ✓ \u001b[39mOSQP\n",
      "\u001b[32m  ✓ \u001b[39m\u001b[90mLinearSolve\u001b[39m\n",
      "\u001b[32m  ✓ \u001b[39m\u001b[90mNonlinearSolve\u001b[39m\n",
      "\u001b[32m  ✓ \u001b[39m\u001b[90mOrdinaryDiffEq\u001b[39m\n",
      "\u001b[32m  ✓ \u001b[39m\u001b[90mDelayDiffEq\u001b[39m\n",
      "\u001b[32m  ✓ \u001b[39mControlSystems\n",
      "  39 dependencies successfully precompiled in 185 seconds (189 already precompiled)\n"
     ]
    }
   ],
   "source": [
    "import Pkg; Pkg.activate(@__DIR__); Pkg.instantiate();\n",
    "Pkg.add(\"ForwardDiff\")"
   ]
  },
  {
   "cell_type": "code",
   "execution_count": 4,
   "id": "f7885722",
   "metadata": {},
   "outputs": [
    {
     "ename": "LoadError",
     "evalue": "ArgumentError: Package FowardDiff not found in current path:\n- Run `import Pkg; Pkg.add(\"FowardDiff\")` to install the FowardDiff package.\n",
     "output_type": "error",
     "traceback": [
      "ArgumentError: Package FowardDiff not found in current path:\n- Run `import Pkg; Pkg.add(\"FowardDiff\")` to install the FowardDiff package.\n",
      "",
      "Stacktrace:",
      " [1] require(into::Module, mod::Symbol)",
      "   @ Base ./loading.jl:893"
     ]
    }
   ],
   "source": [
    "using LinearAlgebra\n",
    "using PyPlot\n",
    "using SparseArrays\n",
    "using ForwardDiff\n",
    "using ControlSystems\n",
    "using OSQP\n"
   ]
  },
  {
   "cell_type": "code",
   "execution_count": null,
   "id": "5841fcc8",
   "metadata": {},
   "outputs": [],
   "source": [
    "#Model parameters\n",
    "g = 9.81 #m/s^2\n",
    "m = 1.0 #kg \n",
    "ℓ = 0.3 #meters\n",
    "J = 0.2*m*ℓ*ℓ\n",
    "\n",
    "#Thrust limits\n",
    "umin = [0.2*m*g; 0.2*m*g]\n",
    "umax = [0.6*m*g; 0.6*m*g]\n",
    "\n",
    "h = 0.05 #time step (20 Hz)\n"
   ]
  },
  {
   "cell_type": "code",
   "execution_count": null,
   "id": "7f243fef",
   "metadata": {},
   "outputs": [],
   "source": [
    "#Planar Quadrotor Dynamics\n",
    "function quad_dynamics(x,u)\n",
    "    θ = x[3]\n",
    "    \n",
    "    ẍ = (1/m)*(u[1] + u[2])*sin(θ)\n",
    "    ÿ = (1/m)*(u[1] + u[2])*cos(θ) - g\n",
    "    θ̈ = (1/J)*(ℓ/2)*(u[2] - u[1])\n",
    "    \n",
    "    return [x[4:6]; ẍ; ÿ; θ̈]\n",
    "end"
   ]
  },
  {
   "cell_type": "code",
   "execution_count": null,
   "id": "24a29f36",
   "metadata": {},
   "outputs": [],
   "source": [
    "function quad_dynamics_rk4(x,u)\n",
    "    #RK4 integration with zero-order hold on u\n",
    "    f1 = quad_dynamics(x, u)\n",
    "    f2 = quad_dynamics(x + 0.5*h*f1, u)\n",
    "    f3 = quad_dynamics(x + 0.5*h*f2, u)\n",
    "    f4 = quad_dynamics(x + h*f3, u)\n",
    "    return x + (h/6.0)*(f1 + 2*f2 + 2*f3 + f4)\n",
    "end"
   ]
  },
  {
   "cell_type": "code",
   "execution_count": null,
   "id": "f1609c0b",
   "metadata": {},
   "outputs": [],
   "source": [
    "#Linearized dynamics for hovering\n",
    "x_hover = zeros(6)\n",
    "u_hover = [0.5*m*g; 0.5*m*g]\n",
    "A = ForwardDiff.jacobian(x->quad_dynamics_rk4(x,u_hover),x_hover);\n",
    "B = ForwardDiff.jacobian(u->quad_dynamics_rk4(x_hover,u),u_hover);\n",
    "quad_dynamics_rk4(x_hover, u_hover)"
   ]
  },
  {
   "cell_type": "code",
   "execution_count": null,
   "id": "72e41027",
   "metadata": {},
   "outputs": [],
   "source": [
    "Nx = 6     # number of state\n",
    "Nu = 2     # number of controls\n",
    "Tfinal = 10.0 # final time\n",
    "Nt = Int(Tfinal/h)+1    # number of time steps\n",
    "thist = Array(range(0,h*(Nt-1), step=h));"
   ]
  },
  {
   "cell_type": "code",
   "execution_count": null,
   "id": "81ee1acc",
   "metadata": {},
   "outputs": [],
   "source": [
    "# Cost weights\n",
    "Q = Array(1.0*I(Nx));\n",
    "# Cost weights\n",
    "Q = Array(1.0*I(Nx));\n",
    "R = Array(.01*I(Nu));\n",
    "Qn = Array(1.0*I(Nx));R = Array(.01*I(Nu));\n",
    "Qn = Array(1.0*I(Nx));"
   ]
  },
  {
   "cell_type": "code",
   "execution_count": null,
   "id": "3f054f1d",
   "metadata": {},
   "outputs": [],
   "source": [
    "#Cost function\n",
    "function cost(xhist,uhist)\n",
    "    cost = 0.5*xhist[:,end]'*Qn*xhist[:,end]\n",
    "    for k = 1:(size(xhist,2)-1)\n",
    "        cost = cost + 0.5*xhist[:,k]'*Q*xhist[:,k] + 0.5*(uhist[k]'*R*uhist[k])[1]\n",
    "    end\n",
    "    return cost\n",
    "end"
   ]
  },
  {
   "cell_type": "code",
   "execution_count": null,
   "id": "e3c181ec",
   "metadata": {},
   "outputs": [],
   "source": [
    "#LQR Hover Controller\n",
    "\n",
    "K = dlqr(A,B,Q,R)\n",
    "\n",
    "function lqr_controller(t,x,K,xref)\n",
    "    \n",
    "    return u_hover - K*(x-xref)\n",
    "end"
   ]
  },
  {
   "cell_type": "code",
   "execution_count": null,
   "id": "7d742aaf",
   "metadata": {},
   "outputs": [],
   "source": []
  }
 ],
 "metadata": {
  "kernelspec": {
   "display_name": "Julia 1.6.7",
   "language": "julia",
   "name": "julia-1.6"
  },
  "language_info": {
   "file_extension": ".jl",
   "mimetype": "application/julia",
   "name": "julia",
   "version": "1.6.7"
  }
 },
 "nbformat": 4,
 "nbformat_minor": 5
}
