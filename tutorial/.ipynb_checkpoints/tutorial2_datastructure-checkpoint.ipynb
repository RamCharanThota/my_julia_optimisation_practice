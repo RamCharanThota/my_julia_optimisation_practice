{
 "cells": [
  {
   "cell_type": "code",
   "execution_count": 5,
   "id": "00fede61",
   "metadata": {},
   "outputs": [
    {
     "data": {
      "text/plain": [
       "7"
      ]
     },
     "execution_count": 5,
     "metadata": {},
     "output_type": "execute_result"
    }
   ],
   "source": [
    "#vectors\n",
    "v=[1,2,3,4,5,6,7]\n",
    "typeof(v)\n",
    "ndims(v)\n",
    "eltype(v)\n",
    "size(v) #gives tuble contaning the array size along all dimensions\n",
    "length(v) # gives total number of elements"
   ]
  },
  {
   "cell_type": "code",
   "execution_count": 6,
   "id": "2bcc4d59",
   "metadata": {},
   "outputs": [
    {
     "data": {
      "text/plain": [
       "2-element Vector{Int64}:\n",
       " 2\n",
       " 3"
      ]
     },
     "execution_count": 6,
     "metadata": {},
     "output_type": "execute_result"
    }
   ],
   "source": [
    "v[3] #access the 3rd element of the array\n",
    "v[begin] #access the first element\n",
    "v[[2,3]] # access the second and third element"
   ]
  },
  {
   "cell_type": "code",
   "execution_count": 11,
   "id": "2a632a25",
   "metadata": {},
   "outputs": [
    {
     "name": "stdout",
     "output_type": "stream",
     "text": [
      "1:2:9"
     ]
    }
   ],
   "source": [
    "#range function\n",
    "range(1,stop=10,step=2)\n",
    "print(1:2:9)\n",
    "1:2:10;"
   ]
  },
  {
   "cell_type": "code",
   "execution_count": 16,
   "id": "2d4562c5",
   "metadata": {},
   "outputs": [
    {
     "data": {
      "text/plain": [
       "4-element Vector{Int64}:\n",
       " 1\n",
       " 3\n",
       " 5\n",
       " 7"
      ]
     },
     "execution_count": 16,
     "metadata": {},
     "output_type": "execute_result"
    }
   ],
   "source": [
    "v[:]\n",
    "v[1:2:end]"
   ]
  },
  {
   "cell_type": "code",
   "execution_count": 20,
   "id": "c36736f1",
   "metadata": {},
   "outputs": [
    {
     "data": {
      "text/plain": [
       "7-element Vector{Int64}:\n",
       "  1\n",
       "  2\n",
       "  3\n",
       "  7\n",
       "  8\n",
       "  9\n",
       " 10"
      ]
     },
     "execution_count": 20,
     "metadata": {},
     "output_type": "execute_result"
    }
   ],
   "source": [
    "#apend function\n",
    "v=[1,2,3]\n",
    "append!(v,7:10)"
   ]
  },
  {
   "cell_type": "code",
   "execution_count": 9,
   "id": "eccecb56",
   "metadata": {},
   "outputs": [
    {
     "name": "stdout",
     "output_type": "stream",
     "text": [
      "M[1]:1.0M[4]:6.0"
     ]
    },
    {
     "data": {
      "text/plain": [
       "4×4 Matrix{Float64}:\n",
       " 1.0  2.0  3.0  4.0\n",
       " 5.0  6.0  7.0  8.0\n",
       " 1.0  2.0  3.0  4.0\n",
       " 5.0  6.0  7.0  8.0"
      ]
     },
     "execution_count": 9,
     "metadata": {},
     "output_type": "execute_result"
    }
   ],
   "source": [
    "# matrices\n",
    "M=[1 2 3.0 4;5 6 7 8]\n",
    "print(\"M[1]:\",M[1],\"M[4]:\",M[4]) # M[4]=6 as julia is column oriented\n",
    "\n",
    "# hcat function is used to concatenate two matrices of along same dimension\n",
    "hcat(M,M) # horizantal cat\n",
    "vcat(M,M) # horizantal concatination\n",
    "#cat is general function of hcat and vcat\n",
    "\n"
   ]
  },
  {
   "cell_type": "code",
   "execution_count": 16,
   "id": "67362d64",
   "metadata": {},
   "outputs": [
    {
     "data": {
      "text/plain": [
       "2×3×3 Array{Float64, 3}:\n",
       "[:, :, 1] =\n",
       " 0.0  0.0  0.0\n",
       " 0.0  0.0  0.0\n",
       "\n",
       "[:, :, 2] =\n",
       " 1.0  1.0  1.0\n",
       " 1.0  1.0  1.0\n",
       "\n",
       "[:, :, 3] =\n",
       " 2.0  2.0  2.0\n",
       " 2.0  2.0  2.0"
      ]
     },
     "execution_count": 16,
     "metadata": {},
     "output_type": "execute_result"
    }
   ],
   "source": [
    "#N dimensional arrays\n",
    "A = zeros(3, 5, 2)\n",
    " B = zeros(Int64, 3, 5, 2)\n",
    "# other useful function \n",
    "# ones and fill\n",
    "ones(Float32,2,3,1)\n",
    "fill(1.234,3,4,2)\n",
    "#exercise\n",
    "A=zeros(2,3,1)\n",
    "B=ones(2,3,1)\n",
    "C=fill(2,2,3,1)\n",
    "cat(A,B,C,dims=3)\n",
    "\n"
   ]
  },
  {
   "cell_type": "code",
   "execution_count": 20,
   "id": "65f93af0",
   "metadata": {},
   "outputs": [
    {
     "data": {
      "text/plain": [
       "1×3 Matrix{Int64}:\n",
       " 1  2  3"
      ]
     },
     "execution_count": 20,
     "metadata": {},
     "output_type": "execute_result"
    }
   ],
   "source": [
    "# broadcasting\n",
    "# used to maps a function or an operation over an array element by element\n",
    "# used as element wise multiplication\n",
    "\n",
    "a=[1,2,3]\n",
    "\n",
    "a.-=4\n"
   ]
  },
  {
   "cell_type": "code",
   "execution_count": null,
   "id": "35883ffe",
   "metadata": {},
   "outputs": [],
   "source": []
  }
 ],
 "metadata": {
  "kernelspec": {
   "display_name": "Julia 1.6.7",
   "language": "julia",
   "name": "julia-1.6"
  },
  "language_info": {
   "file_extension": ".jl",
   "mimetype": "application/julia",
   "name": "julia",
   "version": "1.6.7"
  }
 },
 "nbformat": 4,
 "nbformat_minor": 5
}
