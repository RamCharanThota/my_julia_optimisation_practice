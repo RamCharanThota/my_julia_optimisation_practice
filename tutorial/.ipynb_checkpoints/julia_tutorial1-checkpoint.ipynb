{
 "cells": [
  {
   "cell_type": "code",
   "execution_count": 2,
   "id": "a27b53d5",
   "metadata": {},
   "outputs": [
    {
     "data": {
      "text/plain": [
       "2345"
      ]
     },
     "execution_count": 2,
     "metadata": {},
     "output_type": "execute_result"
    }
   ],
   "source": [
    "#variable names\n",
    "e =2345"
   ]
  },
  {
   "cell_type": "code",
   "execution_count": 4,
   "id": "64aa864a",
   "metadata": {},
   "outputs": [
    {
     "ename": "LoadError",
     "evalue": "cannot assign a value to variable MathConstants.π from module Main",
     "output_type": "error",
     "traceback": [
      "cannot assign a value to variable MathConstants.π from module Main",
      "",
      "Stacktrace:",
      " [1] top-level scope",
      "   @ In[4]:1"
     ]
    }
   ],
   "source": [
    "π=3.145\n"
   ]
  },
  {
   "cell_type": "code",
   "execution_count": 5,
   "id": "36b9caed",
   "metadata": {},
   "outputs": [
    {
     "ename": "LoadError",
     "evalue": "syntax: unexpected \"=\"",
     "output_type": "error",
     "traceback": [
      "syntax: unexpected \"=\"",
      "",
      "Stacktrace:",
      " [1] top-level scope",
      "   @ In[5]:2"
     ]
    }
   ],
   "source": [
    "# some reserved words if you use reserved it will throws an error\n",
    " struct = 3"
   ]
  },
  {
   "cell_type": "code",
   "execution_count": 13,
   "id": "a2e51c03",
   "metadata": {},
   "outputs": [
    {
     "data": {
      "text/plain": [
       "Int64"
      ]
     },
     "execution_count": 13,
     "metadata": {},
     "output_type": "execute_result"
    }
   ],
   "source": [
    "#arthematic operators\n",
    "x=4\n",
    "p=5\n",
    "\n",
    "y=((x+2)^2-4)/(x-2)^(p-2)\n",
    "typeof(y) # it gives us flaot value\n",
    "\n",
    "# if you want to get integer division\n",
    "y=((x+2)^2-4)÷(x-2)^(p-2)\n",
    "typeof(y) # it gives us flaot value\n",
    "\n"
   ]
  },
  {
   "cell_type": "code",
   "execution_count": 16,
   "id": "8a1bc020",
   "metadata": {},
   "outputs": [
    {
     "data": {
      "text/plain": [
       "(1.0f0, 1.0f0, 1.0f0, 1.0f0)"
      ]
     },
     "execution_count": 16,
     "metadata": {},
     "output_type": "execute_result"
    }
   ],
   "source": [
    "# promotion system\n",
    "x=1.0 # Float64\n",
    "y=2   # Int64\n",
    "\n",
    "xp,yp=promote(x,y)\n",
    "\n",
    "promote(1, 2f0, true, 4.5, Int32(1))\n",
    "    \n",
    "#exercise\n",
    "x = 1\n",
    "y = 1f0\n",
    "z = true\n",
    "w = Int32(1)\n",
    "\n",
    "promote(x,y,z,x)\n",
    "\n"
   ]
  },
  {
   "cell_type": "code",
   "execution_count": 18,
   "id": "819dae6a",
   "metadata": {},
   "outputs": [
    {
     "data": {
      "text/plain": [
       "false"
      ]
     },
     "execution_count": 18,
     "metadata": {},
     "output_type": "execute_result"
    }
   ],
   "source": [
    "#compare number of special values\n",
    "isequal(NaN,NaN)\n",
    "!isequal(NaN, NaN)"
   ]
  },
  {
   "cell_type": "code",
   "execution_count": 21,
   "id": "1327b644",
   "metadata": {},
   "outputs": [
    {
     "name": "stdout",
     "output_type": "stream",
     "text": [
      "round(x) = 3142.0\n",
      "floor(x) = 3141.0\n",
      "ceil(x) = 3142.0\n",
      "trunc(x) = 3141.0\n"
     ]
    },
    {
     "data": {
      "text/plain": [
       "3142"
      ]
     },
     "execution_count": 21,
     "metadata": {},
     "output_type": "execute_result"
    }
   ],
   "source": [
    "#rounding functions\n",
    "x=3141.5926\n",
    "\n",
    "@show round(x)\n",
    "@show floor(x)\n",
    "@show ceil(x)\n",
    "@show trunc(x)\n",
    "\n",
    "# we can specify the output type\n",
    "round(Int64, x)\n",
    "floor(Int32, x)\n",
    "ceil(Int16, x)"
   ]
  },
  {
   "cell_type": "code",
   "execution_count": 27,
   "id": "cf341fa9",
   "metadata": {},
   "outputs": [
    {
     "data": {
      "text/plain": [
       "\"The \\$ will be fine.\""
      ]
     },
     "execution_count": 27,
     "metadata": {},
     "output_type": "execute_result"
    }
   ],
   "source": [
    "# strings\n",
    "str=\"hello world\"\n",
    "str1 = \"This is how a string is created: \\\"string\\\".\"\n",
    " str2=\"The \\$ will be fine.\"\n"
   ]
  },
  {
   "cell_type": "code",
   "execution_count": 29,
   "id": "9e1aba43",
   "metadata": {},
   "outputs": [
    {
     "name": "stdout",
     "output_type": "stream",
     "text": [
      "This is how a \n",
      "string is created: \"string\".\n"
     ]
    }
   ],
   "source": [
    " mstr = \"\"\"\n",
    "       This is how a \n",
    "       string is created: \"string\".\n",
    "       \"\"\"\n",
    "print(mstr)"
   ]
  },
  {
   "cell_type": "code",
   "execution_count": null,
   "id": "5e8c8468",
   "metadata": {},
   "outputs": [],
   "source": []
  }
 ],
 "metadata": {
  "kernelspec": {
   "display_name": "Julia 1.6.7",
   "language": "julia",
   "name": "julia-1.6"
  },
  "language_info": {
   "file_extension": ".jl",
   "mimetype": "application/julia",
   "name": "julia",
   "version": "1.6.7"
  }
 },
 "nbformat": 4,
 "nbformat_minor": 5
}
