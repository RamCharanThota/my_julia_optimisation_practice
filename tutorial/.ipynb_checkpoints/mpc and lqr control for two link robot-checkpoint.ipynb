{
 "cells": [
  {
   "cell_type": "code",
   "execution_count": 17,
   "id": "c1412250",
   "metadata": {},
   "outputs": [
    {
     "name": "stderr",
     "output_type": "stream",
     "text": [
      "\u001b[32m\u001b[1m  Activating\u001b[22m\u001b[39m environment at `~/all_about_robotics/julia_optimisation_course/tutorial/Project.toml`\n",
      "\u001b[32m\u001b[1m   Resolving\u001b[22m\u001b[39m package versions...\n",
      "\u001b[32m\u001b[1m  No Changes\u001b[22m\u001b[39m to `~/all_about_robotics/julia_optimisation_course/tutorial/Project.toml`\n",
      "\u001b[32m\u001b[1m  No Changes\u001b[22m\u001b[39m to `~/all_about_robotics/julia_optimisation_course/tutorial/Manifest.toml`\n",
      "\u001b[32m\u001b[1m   Resolving\u001b[22m\u001b[39m package versions...\n",
      "\u001b[32m\u001b[1m  No Changes\u001b[22m\u001b[39m to `~/all_about_robotics/julia_optimisation_course/tutorial/Project.toml`\n",
      "\u001b[32m\u001b[1m  No Changes\u001b[22m\u001b[39m to `~/all_about_robotics/julia_optimisation_course/tutorial/Manifest.toml`\n"
     ]
    }
   ],
   "source": [
    "import Pkg\n",
    "Pkg.activate(@__DIR__)\n",
    "Pkg.add(\"DifferentialEquations\")\n",
    "Pkg.add(\"Dierckx\")\n",
    "Pkg.instantiate()"
   ]
  },
  {
   "cell_type": "code",
   "execution_count": 18,
   "id": "139136c5",
   "metadata": {},
   "outputs": [
    {
     "name": "stderr",
     "output_type": "stream",
     "text": [
      "\u001b[36m\u001b[1m[ \u001b[22m\u001b[39m\u001b[36m\u001b[1mInfo: \u001b[22m\u001b[39mPrecompiling DifferentialEquations [0c46a032-eb83-5123-abaf-570d42b7fbaa]\n",
      "WARNING: Method definition __init__() in module LinearSolve at /home/ram/.julia/packages/LinearSolve/Tcmzb/src/init.jl:1 overwritten at /home/ram/.julia/packages/LinearSolve/Tcmzb/src/LinearSolve.jl:125.\n",
      "  ** incremental compilation may be fatally broken for this module **\n",
      "\n"
     ]
    }
   ],
   "source": [
    "using ControlSystemsBase\n",
    "using LinearAlgebra\n",
    "using Plots\n",
    "import ForwardDiff as FD\n",
    "using DifferentialEquations\n",
    "using Dierckx"
   ]
  },
  {
   "cell_type": "code",
   "execution_count": 19,
   "id": "d4fffaa3",
   "metadata": {},
   "outputs": [
    {
     "data": {
      "text/plain": [
       "rk45step (generic function with 1 method)"
      ]
     },
     "execution_count": 19,
     "metadata": {},
     "output_type": "execute_result"
    }
   ],
   "source": [
    "# first link parameters\n",
    "m1=1;  # in kg\n",
    "l1=1; # in m\n",
    "\n",
    "# second link parameters\n",
    "m2=1;  # in kg\n",
    "l2=1; # in m\n",
    "\n",
    "# gravity \n",
    "g=9.81 #m/sec2\n",
    "\n",
    "\n",
    "#mpc control parameters\n",
    "ρ=10 # weigh on the position error\n",
    "h=0.001 # horizon time of the prediction and euler step size\n",
    "\n",
    "\n",
    "\n",
    "\n",
    "function dynamicParam(θ1,θ2,θ1_dot,θ2_dot)\n",
    "    D1= ((m1+m2)*l1^2)+(m2*l2^2)+2*m2*l1*l2*cos(θ2)\n",
    "    D2= (m2*l2^2)+(m2*l1*l2*cos(θ2))\n",
    "    D3=D2\n",
    "    D4=m2*l2^2\n",
    "    \n",
    "    # inertia matrix\n",
    "    M=[D1 D2;D3 D4]\n",
    "    #vector of gravity torques\n",
    "    G=[-((m1+m2)*g*l1*sin(θ1))-(m2*g*l2*sin(θ1+θ2)) ; -m2*g*l2*sin(θ1+θ2)]\n",
    "    #Coriolis centrifugal forces\n",
    "    C=[-m2*l1*l2*(2*θ1_dot*θ2_dot+θ1_dot^2)*sin(θ2); -m2*l1*l2*θ1_dot*θ2_dot*sin(θ2)]\n",
    "    \n",
    "    return M,G,C\n",
    "end\n",
    "\n",
    "\n",
    "function actualDynamics(θ,τ)\n",
    "    \n",
    "    θ1,θ1_dot,θ2,θ2_dot=θ\n",
    "    τ1,τ2=τ\n",
    "    \n",
    "    M,G,C=dynamicParam(θ1,θ2,θ1_dot,θ2_dot)\n",
    "    \n",
    "    x1=θ1_dot\n",
    "    x3=θ2_dot\n",
    "    x2,x4=M\\(τ-G-C)\n",
    "    \n",
    "    return [x1,x2,x3,x4]\n",
    "end\n",
    "\n",
    "#use RK45 integrator with zero order hold control\n",
    "function rk45step(θ,τ)\n",
    "   f1=actualDynamics(θ,τ)\n",
    "   f2=actualDynamics(θ+0.5*h*f1,τ)\n",
    "   f3=actualDynamics(θ+0.5*h*f2,τ)\n",
    "   f4=actualDynamics(θ+h*f3,τ)\n",
    "    \n",
    "   return θ+(h/6)*(f1+2*f2+2*f3+f4)   \n",
    "end\n",
    "\n",
    "\n"
   ]
  },
  {
   "cell_type": "code",
   "execution_count": 20,
   "id": "2708bf7c",
   "metadata": {},
   "outputs": [
    {
     "data": {
      "text/plain": [
       "rk45_solve (generic function with 1 method)"
      ]
     },
     "execution_count": 20,
     "metadata": {},
     "output_type": "execute_result"
    }
   ],
   "source": [
    "#simulate the free body dynamics of the system\n",
    "function rk45_solve(t0, x0, tf)\n",
    "    t = t0\n",
    "    x = x0\n",
    "        \n",
    "    ts = [t] # vector to save time steps\n",
    "    xs = [x0] # vector to save state trajectory\n",
    "    τ=[0,0]\n",
    "    \n",
    "    while t < tf\n",
    "        x_new = rk45step(x,τ)\n",
    "        t += h\n",
    "        x = x_new\n",
    "        push!(ts, t)\n",
    "        push!(xs, x)\n",
    "    end\n",
    "    \n",
    "    return ts, xs\n",
    "end\n"
   ]
  },
  {
   "cell_type": "code",
   "execution_count": 21,
   "id": "d444bfc1",
   "metadata": {},
   "outputs": [
    {
     "ename": "LoadError",
     "evalue": "UndefVarError: θ1_dot not defined",
     "output_type": "error",
     "traceback": [
      "UndefVarError: θ1_dot not defined",
      "",
      "Stacktrace:",
      " [1] dynamicParam(θ1::Float64, θ2::Float64)",
      "   @ Main ./In[19]:31",
      " [2] actualDynamics(θ::Vector{Float64}, τ::Vector{Int64})",
      "   @ Main ./In[19]:42",
      " [3] rk45step(θ::Vector{Float64}, τ::Vector{Int64})",
      "   @ Main ./In[19]:53",
      " [4] rk45_solve(t0::Float64, x0::Vector{Float64}, tf::Float64)",
      "   @ Main ./In[20]:11",
      " [5] top-level scope",
      "   @ In[21]:7"
     ]
    }
   ],
   "source": [
    "\n",
    "x0=[0.001,0.0,0, 0.0]\n",
    "# Time span\n",
    "t0 = 0.0\n",
    "tf = 10.0\n",
    "\n",
    "t_vals, x_vals = rk45_solve(t0,x0,tf);\n"
   ]
  },
  {
   "cell_type": "code",
   "execution_count": 6,
   "id": "db364a47",
   "metadata": {},
   "outputs": [
    {
     "ename": "LoadError",
     "evalue": "UndefVarError: x_vals not defined",
     "output_type": "error",
     "traceback": [
      "UndefVarError: x_vals not defined",
      "",
      "Stacktrace:",
      " [1] top-level scope",
      "   @ In[6]:2"
     ]
    }
   ],
   "source": [
    "# Extract angle values\n",
    "θ1_vals = [x[1] for x in x_vals]\n",
    "w1_vals=[x[2] for x in x_vals]\n",
    "θ2_vals = [x[3] for x in x_vals]\n",
    "w2_vals=[x[4] for x in x_vals]\n",
    "\n",
    "# Plot the results\n",
    "plot(t_vals, θ_vals, label=\"Angle\", xlabel=\"Time\", ylabel=\"Angle\", legend=true)\n",
    "plot!(t_vals, w_vals, label=\"omega\", xlabel=\"Time\", ylabel=\"omega\", legend=true,show=true)"
   ]
  },
  {
   "cell_type": "code",
   "execution_count": 7,
   "id": "0a7aae4e",
   "metadata": {},
   "outputs": [
    {
     "ename": "LoadError",
     "evalue": "UndefVarError: θ1_vals not defined",
     "output_type": "error",
     "traceback": [
      "UndefVarError: θ1_vals not defined",
      "",
      "Stacktrace:",
      " [1] top-level scope",
      "   @ In[7]:2"
     ]
    }
   ],
   "source": [
    "# Mapping from polar to Cartesian\n",
    "x1 = l1*sin.(θ1_vals);          # First Pendulum\n",
    "y1 = -l1*cos.(θ1_vals);\n",
    "\n",
    "x2 = x1 + l2*sin.(θ2_vals);     # Second Pendulum\n",
    "y2 = y1 - l2*cos.(θ2_vals);"
   ]
  },
  {
   "cell_type": "code",
   "execution_count": 8,
   "id": "fb16dbb5",
   "metadata": {},
   "outputs": [
    {
     "ename": "LoadError",
     "evalue": "UndefVarError: Spline1D not defined",
     "output_type": "error",
     "traceback": [
      "UndefVarError: Spline1D not defined",
      "",
      "Stacktrace:",
      " [1] top-level scope",
      "   @ In[8]:1"
     ]
    }
   ],
   "source": [
    "sp_x1 = Spline1D(t_vals, x1);\n",
    "sp_y1 = Spline1D(t_vals, y1);\n",
    "sp_x2 = Spline1D(t_vals, x2);\n",
    "sp_y2 = Spline1D(t_vals, y2);"
   ]
  },
  {
   "cell_type": "code",
   "execution_count": 9,
   "id": "2ad4f7af",
   "metadata": {},
   "outputs": [
    {
     "ename": "LoadError",
     "evalue": "UndefVarError: sp_x1 not defined",
     "output_type": "error",
     "traceback": [
      "UndefVarError: sp_x1 not defined",
      "",
      "Stacktrace:",
      " [1] top-level scope",
      "   @ In[9]:2"
     ]
    }
   ],
   "source": [
    "# Interpolated variables\n",
    "x1_u = sp_x1(t_u);\n",
    "y1_u = sp_y1(t_u);\n",
    "x2_u = sp_x2(t_u);\n",
    "y2_u = sp_y2(t_u);"
   ]
  },
  {
   "cell_type": "code",
   "execution_count": 10,
   "id": "6c169936",
   "metadata": {},
   "outputs": [],
   "source": [
    "dt = 0.05;\n",
    "t_u = 0:dt:tf;"
   ]
  },
  {
   "cell_type": "code",
   "execution_count": 11,
   "id": "0a036062",
   "metadata": {},
   "outputs": [
    {
     "ename": "LoadError",
     "evalue": "UndefVarError: sp_x1 not defined",
     "output_type": "error",
     "traceback": [
      "UndefVarError: sp_x1 not defined",
      "",
      "Stacktrace:",
      " [1] top-level scope",
      "   @ In[11]:2"
     ]
    }
   ],
   "source": [
    "# Interpolated variables\n",
    "x1_u = sp_x1(t_u);\n",
    "y1_u = sp_y1(t_u);\n",
    "x2_u = sp_x2(t_u);\n",
    "y2_u = sp_y2(t_u);"
   ]
  },
  {
   "cell_type": "code",
   "execution_count": 12,
   "id": "cbe17306",
   "metadata": {},
   "outputs": [
    {
     "ename": "LoadError",
     "evalue": "UndefVarError: L1 not defined",
     "output_type": "error",
     "traceback": [
      "UndefVarError: L1 not defined",
      "",
      "Stacktrace:",
      " [1] top-level scope",
      "   @ In[12]:6"
     ]
    }
   ],
   "source": [
    "# Animation setup\n",
    "# Refs.\n",
    "# 1. http://docs.juliaplots.org/latest/attributes/\n",
    "# 2. http://docs.juliaplots.org/latest/animations/\n",
    "\n",
    "L = l1 + l2;\n",
    "axis_lim = L*1.2;   # defining the limits of the axes\n",
    "\n",
    "\n",
    "tic()\n",
    "anim = Animation()\n",
    "#p = plot([sin,cos], 0, π, size=(200,200))\n",
    "\n",
    "for i =1:length(t_u)\n",
    "    \n",
    "    str = string(\"Time = \", round(tm[i],1), \" sec\");\n",
    "    \n",
    "    plot([0,x1_u[i]], [0,y1_u[i]],size=(400,300),xlim=(-axis_lim,axis_lim),ylim=(-axis_lim,1),markersize = 10, markershape = :circle,label =\"\",axis = []);\n",
    "    plot!([x1_u[i],x2_u[i]], [y1_u[i],y2_u[i]],markersize = 10, markershape = :circle,label =\"\",title = str, title_location = :left, aspect_ratio = :equal);\n",
    "    \n",
    "    if i > 9\n",
    "        plot!([x2_u[i-3:i]], [y2_u[i-3:i]],alpha = 0.15,linewidth = 2, color = :red,label =\"\");\n",
    "        plot!([x2_u[i-5:i-3]], [y2_u[i-5:i-3]],alpha = 0.08,linewidth = 2, color = :red,label =\"\");\n",
    "        plot!([x2_u[i-7:i-5]], [y2_u[i-7:i-5]],alpha = 0.04,linewidth = 2, color = :red, label =\"\");\n",
    "        plot!([x2_u[i-9:i-7]], [y2_u[i-9:i-7]],alpha = 0.01,linewidth = 2, color = :red, label=\"\");\n",
    "        \n",
    "        \n",
    "    end\n",
    "    \n",
    "    \n",
    "    \n",
    "    \n",
    "    frame(anim)\n",
    "end\n",
    "\n",
    "toc()\n"
   ]
  },
  {
   "cell_type": "code",
   "execution_count": 13,
   "id": "e3c68a48",
   "metadata": {},
   "outputs": [
    {
     "ename": "LoadError",
     "evalue": "UndefVarError: anim not defined",
     "output_type": "error",
     "traceback": [
      "UndefVarError: anim not defined",
      "",
      "Stacktrace:",
      " [1] top-level scope",
      "   @ In[13]:2"
     ]
    }
   ],
   "source": [
    "\n",
    "gif(anim,fps = 30)\n"
   ]
  },
  {
   "cell_type": "code",
   "execution_count": null,
   "id": "c638da32",
   "metadata": {},
   "outputs": [],
   "source": []
  },
  {
   "cell_type": "code",
   "execution_count": null,
   "id": "ae2b5810",
   "metadata": {},
   "outputs": [],
   "source": []
  },
  {
   "cell_type": "code",
   "execution_count": null,
   "id": "1c1dadf2",
   "metadata": {},
   "outputs": [],
   "source": []
  },
  {
   "cell_type": "code",
   "execution_count": 14,
   "id": "d6dc6cbe",
   "metadata": {},
   "outputs": [
    {
     "data": {
      "text/plain": [
       "1000.0000249999994"
      ]
     },
     "execution_count": 14,
     "metadata": {},
     "output_type": "execute_result"
    }
   ],
   "source": [
    "k1=2/(h^2+4*ρ)\n",
    "k2=(2*h^2+4*ρ)/(h^3+4*ρ*h)"
   ]
  },
  {
   "cell_type": "code",
   "execution_count": null,
   "id": "2814bbd9",
   "metadata": {},
   "outputs": [],
   "source": []
  }
 ],
 "metadata": {
  "@webio": {
   "lastCommId": null,
   "lastKernelId": null
  },
  "kernelspec": {
   "display_name": "Julia 1.6.7",
   "language": "julia",
   "name": "julia-1.6"
  },
  "language_info": {
   "file_extension": ".jl",
   "mimetype": "application/julia",
   "name": "julia",
   "version": "1.6.7"
  }
 },
 "nbformat": 4,
 "nbformat_minor": 5
}
