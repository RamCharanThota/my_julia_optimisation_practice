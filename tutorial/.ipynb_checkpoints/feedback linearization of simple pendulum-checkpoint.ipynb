{
 "cells": [
  {
   "cell_type": "code",
   "execution_count": 6,
   "id": "e10094d9",
   "metadata": {},
   "outputs": [],
   "source": [
    "import Pkg\n",
    "using LinearAlgebra\n",
    "using Plots\n"
   ]
  },
  {
   "cell_type": "code",
   "execution_count": 7,
   "id": "a1780ae5",
   "metadata": {},
   "outputs": [
    {
     "data": {
      "text/plain": [
       "dynamics (generic function with 1 method)"
      ]
     },
     "execution_count": 7,
     "metadata": {},
     "output_type": "execute_result"
    }
   ],
   "source": [
    "# define the feedback linearized model of the simple pendulum\n",
    "m=1    # mass is of the pendulum\n",
    "g=9.81 # gravity\n",
    "l=1 # length of the pendulum\n",
    "\n",
    "h=0.001 # time step for rk45 integrator\n",
    "\n",
    "# feedback linearized dynamics\n",
    "function dynamics(x,τ)\n",
    "     x1,x2=x\n",
    "    x1_dot= x2\n",
    "    x2_dot= -(g / l)*sin(x1)+(τ / (m*l^2))\n",
    "    return [x1_dot,x2_dot]\n",
    "end\n",
    "    "
   ]
  },
  {
   "cell_type": "code",
   "execution_count": 8,
   "id": "a439d43a",
   "metadata": {},
   "outputs": [
    {
     "data": {
      "text/plain": [
       "rk45step (generic function with 1 method)"
      ]
     },
     "execution_count": 8,
     "metadata": {},
     "output_type": "execute_result"
    }
   ],
   "source": [
    "function rk45step(x,τ_v)\n",
    "f1=dynamics(x,τ_v)\n",
    "   f2=dynamics(x+0.5*h*f1,τ_v)\n",
    "   f3=dynamics(x+0.5*h*f2,τ_v)\n",
    "   f4=dynamics(x+h*f3,τ_v)\n",
    "    \n",
    "   return x+(h/6)*(f1+2*f2+2*f3+f4)\n",
    "    \n",
    "end"
   ]
  },
  {
   "cell_type": "code",
   "execution_count": 11,
   "id": "b91d08b9",
   "metadata": {},
   "outputs": [
    {
     "data": {
      "text/plain": [
       "rk45_solve (generic function with 1 method)"
      ]
     },
     "execution_count": 11,
     "metadata": {},
     "output_type": "execute_result"
    }
   ],
   "source": [
    "function rk45_solve(t0, x0, tf)\n",
    "    t = t0\n",
    "    x = x0\n",
    "        \n",
    "    ts = [t] # vector to save time steps\n",
    "    xs = [x0] # vector to save state trajectory\n",
    "    \n",
    "    while t < tf\n",
    "        x_new = rk45step(x,0)\n",
    "        t += h\n",
    "        x = x_new\n",
    "        push!(ts, t)\n",
    "        push!(xs, x)\n",
    "    end\n",
    "    \n",
    "    return ts, xs\n",
    "end"
   ]
  },
  {
   "cell_type": "code",
   "execution_count": 13,
   "id": "87d5a23c",
   "metadata": {},
   "outputs": [],
   "source": [
    "\n",
    "x0=[pi-0.001, 0.0]\n",
    "\n",
    "# Time span\n",
    "t0 = 0.0\n",
    "tf = 100.0\n",
    "t_vals, x_vals = rk45_solve(t0,x0,tf)\n",
    "\n",
    "# Extract angle values\n",
    "θ_vals = [x[1] for x in x_vals]\n",
    "w_vals=[x[2] for x in x_vals]\n",
    "# Plot the results\n",
    "plot(t_vals, θ_vals, label=\"Angle\", xlabel=\"Time\", ylabel=\"Angle\", legend=true)\n",
    "plot!(t_vals, w_vals, label=\"omega\", xlabel=\"Time\", ylabel=\"omega\", legend=true,show=true)"
   ]
  },
  {
   "cell_type": "code",
   "execution_count": null,
   "id": "1f69f979",
   "metadata": {},
   "outputs": [],
   "source": []
  }
 ],
 "metadata": {
  "kernelspec": {
   "display_name": "Julia 1.6.7",
   "language": "julia",
   "name": "julia-1.6"
  },
  "language_info": {
   "file_extension": ".jl",
   "mimetype": "application/julia",
   "name": "julia",
   "version": "1.6.7"
  }
 },
 "nbformat": 4,
 "nbformat_minor": 5
}
