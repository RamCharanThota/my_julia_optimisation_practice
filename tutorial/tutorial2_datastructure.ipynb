{
 "cells": [
  {
   "cell_type": "code",
   "execution_count": 5,
   "id": "00fede61",
   "metadata": {},
   "outputs": [
    {
     "data": {
      "text/plain": [
       "7"
      ]
     },
     "execution_count": 5,
     "metadata": {},
     "output_type": "execute_result"
    }
   ],
   "source": [
    "#vectors\n",
    "v=[1,2,3,4,5,6,7]\n",
    "typeof(v)\n",
    "ndims(v)\n",
    "eltype(v)\n",
    "size(v) #gives tuble contaning the array size along all dimensions\n",
    "length(v) # gives total number of elements"
   ]
  },
  {
   "cell_type": "code",
   "execution_count": 6,
   "id": "2bcc4d59",
   "metadata": {},
   "outputs": [
    {
     "data": {
      "text/plain": [
       "2-element Vector{Int64}:\n",
       " 2\n",
       " 3"
      ]
     },
     "execution_count": 6,
     "metadata": {},
     "output_type": "execute_result"
    }
   ],
   "source": [
    "v[3] #access the 3rd element of the array\n",
    "v[begin] #access the first element\n",
    "v[[2,3]] # access the second and third element"
   ]
  },
  {
   "cell_type": "code",
   "execution_count": 11,
   "id": "2a632a25",
   "metadata": {},
   "outputs": [
    {
     "name": "stdout",
     "output_type": "stream",
     "text": [
      "1:2:9"
     ]
    }
   ],
   "source": [
    "#range function\n",
    "range(1,stop=10,step=2)\n",
    "print(1:2:9)\n",
    "1:2:10;"
   ]
  },
  {
   "cell_type": "code",
   "execution_count": 16,
   "id": "2d4562c5",
   "metadata": {},
   "outputs": [
    {
     "data": {
      "text/plain": [
       "4-element Vector{Int64}:\n",
       " 1\n",
       " 3\n",
       " 5\n",
       " 7"
      ]
     },
     "execution_count": 16,
     "metadata": {},
     "output_type": "execute_result"
    }
   ],
   "source": [
    "v[:]\n",
    "v[1:2:end]"
   ]
  },
  {
   "cell_type": "code",
   "execution_count": 20,
   "id": "c36736f1",
   "metadata": {},
   "outputs": [
    {
     "data": {
      "text/plain": [
       "7-element Vector{Int64}:\n",
       "  1\n",
       "  2\n",
       "  3\n",
       "  7\n",
       "  8\n",
       "  9\n",
       " 10"
      ]
     },
     "execution_count": 20,
     "metadata": {},
     "output_type": "execute_result"
    }
   ],
   "source": [
    "#apend function\n",
    "v=[1,2,3]\n",
    "append!(v,7:10)"
   ]
  },
  {
   "cell_type": "code",
   "execution_count": null,
   "id": "eccecb56",
   "metadata": {},
   "outputs": [],
   "source": []
  }
 ],
 "metadata": {
  "kernelspec": {
   "display_name": "Julia 1.6.7",
   "language": "julia",
   "name": "julia-1.6"
  },
  "language_info": {
   "file_extension": ".jl",
   "mimetype": "application/julia",
   "name": "julia",
   "version": "1.6.7"
  }
 },
 "nbformat": 4,
 "nbformat_minor": 5
}
