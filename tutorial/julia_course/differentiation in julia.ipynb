{
 "cells": [
  {
   "cell_type": "code",
   "execution_count": 8,
   "id": "15f78ade",
   "metadata": {},
   "outputs": [
    {
     "name": "stderr",
     "output_type": "stream",
     "text": [
      "\u001b[32m\u001b[1m  Activating\u001b[22m\u001b[39m environment at `~/all_about_robotics/julia_optimisation_course/tutorial/Project.toml`\n"
     ]
    }
   ],
   "source": [
    "import Pkg\n",
    "Pkg.activate(@__DIR__)\n",
    "Pkg.instantiate()"
   ]
  },
  {
   "cell_type": "code",
   "execution_count": 9,
   "id": "463d412b",
   "metadata": {},
   "outputs": [],
   "source": [
    "using LinearAlgebra\n",
    "using Plots\n",
    "import ForwardDiff as FD"
   ]
  },
  {
   "cell_type": "code",
   "execution_count": 32,
   "id": "1dc996b4",
   "metadata": {},
   "outputs": [
    {
     "name": "stdout",
     "output_type": "stream",
     "text": [
      "size(FD.gradient(f2, [1, 2, 0])) = (3,)\n",
      "FD.hessian(f2, [1, 2, 0]) = [6 0 0; 0 4 0; 0 0 0]\n"
     ]
    },
    {
     "data": {
      "text/plain": [
       "3×3 Matrix{Int64}:\n",
       " 6  0  0\n",
       " 0  4  0\n",
       " 0  0  0"
      ]
     },
     "execution_count": 32,
     "metadata": {},
     "output_type": "execute_result"
    }
   ],
   "source": [
    "#f1 is scalar input and scalar out\n",
    "function f1(x)\n",
    "    return x^2+2*x+3x\n",
    "end\n",
    "\n",
    "f1_der= FD.derivative(f1,1)\n",
    "\n",
    "#f2 is vector input and scalar output function\n",
    "function f2(x)\n",
    "    x1,x2,x3=x\n",
    "    return 3*x1^2+2*x2^2+x3\n",
    "end\n",
    "\n",
    "@show FD.gradient(f2,[1,2,0])\n",
    "@show FD.hessian(f2,[1,2,0])"
   ]
  },
  {
   "cell_type": "code",
   "execution_count": 40,
   "id": "210a07a7",
   "metadata": {},
   "outputs": [
    {
     "name": "stdout",
     "output_type": "stream",
     "text": [
      "FD.jacobian(f3, [1, 2, 3]) = [4.0 12.0 0.0; 0.0 0.09070257317431829 6.0; 4.0806046117362795 3.8414709848078967 3.0]\n"
     ]
    },
    {
     "data": {
      "text/plain": [
       "3×3 Matrix{Float64}:\n",
       " 4.0     12.0        0.0\n",
       " 0.0      0.0907026  6.0\n",
       " 4.0806   3.84147    3.0"
      ]
     },
     "execution_count": 40,
     "metadata": {},
     "output_type": "execute_result"
    }
   ],
   "source": [
    "function f3(x)\n",
    "    x1,x2,x3=x\n",
    "    return [2*x1^2+3*x2^2,cos(x2)+6*x3+x2,sin(x1)*x2+x2*x3+x3*x1]\n",
    "end\n",
    "\n",
    "@show FD.jacobian(f3,[1,2,3])\n"
   ]
  },
  {
   "cell_type": "code",
   "execution_count": 54,
   "id": "abe1827b",
   "metadata": {},
   "outputs": [
    {
     "name": "stdout",
     "output_type": "stream",
     "text": [
      "FD.gradient(foo4, [1, 2, 3]) = [-420.42879349273517, 4.0, 9.0]\n"
     ]
    },
    {
     "data": {
      "text/plain": [
       "3-element Vector{Float64}:\n",
       " -420.42879349273517\n",
       "    4.0\n",
       "    9.0"
      ]
     },
     "execution_count": 54,
     "metadata": {},
     "output_type": "execute_result"
    }
   ],
   "source": [
    "# here is our function of interest\n",
    "function foo4(x)\n",
    "    Q = diagm([1;2;3.0]) # this creates a diagonal matrix from a vector\n",
    "    return [(0.5*x'*Q*x/x[1]-log(x[1])*exp(x[2])^x[3])]\n",
    "end\n",
    "\n",
    "@show FD.gradient(foo4,[1,2,3])\n",
    "\n",
    "\n"
   ]
  },
  {
   "cell_type": "code",
   "execution_count": 55,
   "id": "f54bc6bb",
   "metadata": {},
   "outputs": [
    {
     "name": "stdout",
     "output_type": "stream",
     "text": [
      "FD.jacobian(foo4, [1, 2, 3]) = [-420.42879349273517 4.0 9.0]\n"
     ]
    },
    {
     "data": {
      "text/plain": [
       "1×3 Matrix{Float64}:\n",
       " -420.429  4.0  9.0"
      ]
     },
     "execution_count": 55,
     "metadata": {},
     "output_type": "execute_result"
    }
   ],
   "source": [
    "# here is our function of interest\n",
    "function foo4(x)\n",
    "    Q = diagm([1;2;3.0]) # this creates a diagonal matrix from a vector\n",
    "    return [(0.5*x'*Q*x/x[1]-log(x[1])*exp(x[2])^x[3])]\n",
    "end\n",
    "\n",
    "@show FD.jacobian(foo4,[1,2,3])\n"
   ]
  },
  {
   "cell_type": "code",
   "execution_count": 66,
   "id": "af925d44",
   "metadata": {},
   "outputs": [
    {
     "data": {
      "text/plain": [
       "3"
      ]
     },
     "execution_count": 66,
     "metadata": {},
     "output_type": "execute_result"
    }
   ],
   "source": [
    "#derivates of functio with multiple input arguments\n",
    "\n",
    "function f5(x1,x2)\n",
    "    return x1*x2^2+x2*x1^2\n",
    "end\n",
    "    \n",
    "f5_der= FD.derivative(x->f5(x,1),1)"
   ]
  },
  {
   "cell_type": "code",
   "execution_count": 71,
   "id": "be723a38",
   "metadata": {},
   "outputs": [
    {
     "data": {
      "text/plain": [
       "2×2 Matrix{Float64}:\n",
       "  2.0      0.0\n",
       " -0.90117  1.41135"
      ]
     },
     "execution_count": 71,
     "metadata": {},
     "output_type": "execute_result"
    }
   ],
   "source": [
    "function f6(x1,x2,x3)\n",
    "    return [sin(x1)*cos(x2); cos(x3)*x1*x2]\n",
    "end\n",
    "        \n",
    "f6_jac= FD.derivative(x->f6(x,1,1),1)\n",
    "\n",
    "\n",
    "function f7(x,a,b,c)\n",
    "    return [x[1]*a; b*c*x[2]*x[1]]\n",
    "end\n",
    "x1=randn(2)\n",
    "a = 2 #randn()\n",
    "b = 2 # randn()\n",
    "c = 2 # randn()\n",
    "\n",
    "f7_jac=FD.jacobian(x->f7(x,a,b,c),x1)"
   ]
  },
  {
   "cell_type": "code",
   "execution_count": 81,
   "id": "9fb94f73",
   "metadata": {},
   "outputs": [
    {
     "data": {
      "text/plain": [
       "2-element Vector{Float64}:\n",
       " 0.0\n",
       " 0.25"
      ]
     },
     "execution_count": 81,
     "metadata": {},
     "output_type": "execute_result"
    }
   ],
   "source": [
    "m=1\n",
    "g=9.81\n",
    "l=2\n",
    "function dynamics(x,τ)\n",
    "    x1,x2=x\n",
    "    x1_dot=x2\n",
    "    x2_dot= -(g*sin(x1)/l)+(τ/(m*l^2))\n",
    "    return [x1_dot,x2_dot] \n",
    "end\n",
    "    \n",
    "#calculate the A and B matrix of the above dynamics at θ=pi/2 θ_dot=0\n",
    "    \n",
    "A=FD.jacobian(x->dynamics(x,0),[0,0])\n",
    "B=FD.derivative(x->dynamics([0,0],x),0)\n",
    "    \n",
    "    \n"
   ]
  },
  {
   "cell_type": "code",
   "execution_count": 83,
   "id": "fc9cc428",
   "metadata": {},
   "outputs": [
    {
     "data": {
      "text/plain": [
       "8"
      ]
     },
     "execution_count": 83,
     "metadata": {},
     "output_type": "execute_result"
    }
   ],
   "source": [
    "#scalar input vector out function\n",
    "function f8(x)\n",
    "    return [x^2+2*x;3*x+4*x^3]\n",
    "end\n",
    "\n",
    "f8_der= FD.derivative(f8,2)\n",
    "\n",
    "#scalar input scalar output\n",
    "function f9(x)\n",
    "    return x^2+2*x\n",
    "end\n",
    "f9_der= FD.derivative(f9,3)\n"
   ]
  },
  {
   "cell_type": "code",
   "execution_count": 91,
   "id": "00fe13b5",
   "metadata": {},
   "outputs": [
    {
     "data": {
      "text/plain": [
       "2-element Vector{Int64}:\n",
       "  8\n",
       " 10"
      ]
     },
     "execution_count": 91,
     "metadata": {},
     "output_type": "execute_result"
    }
   ],
   "source": [
    "#vector input scalar output\n",
    "function f9(x)\n",
    "    x1,x2=x\n",
    "    return x1^2+3*x2\n",
    "end\n",
    "f9_der= FD.gradient(f9,[1,1])\n",
    "\n",
    "# vector input to vector output\n",
    "\n",
    "function f10(x)\n",
    "    x1,x2=x\n",
    "    return[x1^2*x2+3*x2; 5*x1*x2+6*x2]\n",
    "end\n",
    "f10_der=FD.derivative(x->f10([x,2]),2)\n"
   ]
  },
  {
   "cell_type": "code",
   "execution_count": null,
   "id": "7025101d",
   "metadata": {},
   "outputs": [],
   "source": []
  }
 ],
 "metadata": {
  "kernelspec": {
   "display_name": "Julia 1.6.7",
   "language": "julia",
   "name": "julia-1.6"
  },
  "language_info": {
   "file_extension": ".jl",
   "mimetype": "application/julia",
   "name": "julia",
   "version": "1.6.7"
  }
 },
 "nbformat": 4,
 "nbformat_minor": 5
}
