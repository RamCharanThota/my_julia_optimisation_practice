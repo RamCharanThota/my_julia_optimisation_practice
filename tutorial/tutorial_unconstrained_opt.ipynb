{
 "cells": [
  {
   "cell_type": "code",
   "execution_count": null,
   "id": "c6973dd6",
   "metadata": {},
   "outputs": [],
   "source": [
    "import Pkg \n",
    "Pkg.status()\n",
    "using ForwardDiff\n",
    "using LinearAlgebra\n",
    "using Plots\n",
    "using Random\n",
    "\n",
    "\n"
   ]
  },
  {
   "cell_type": "code",
   "execution_count": null,
   "id": "c3a8f524",
   "metadata": {},
   "outputs": [],
   "source": [
    "#visualisation of gradients\n",
    "g(x) = [cos(x[1] + x[2]) - 2*cos(x[1])*sin(x[1]); cos(x[1] + x[2])]\n",
    "f(x)=sin(x[1]+x[2])+cos(x[1])^2\n",
    "#f(x1,x2)=sin(x1+x2)+cos(x1)^2\n",
    "\n",
    "\n",
    "f(x1,x2)=f([x1,x2])\n",
    "\n",
    "xs=range(-3,1,length=40)\n",
    "ys=range(-2,1,length=40)\n",
    "\n",
    "contourf(xs,ys,f,color=:jet)"
   ]
  },
  {
   "cell_type": "code",
   "execution_count": null,
   "id": "c6ceb27c",
   "metadata": {},
   "outputs": [],
   "source": [
    "finite_difference(f, x::Real, h=1e-8) = (f(x+h) - f(x)) / h\n",
    "\n",
    "x = [-2; -1]\n",
    "fin_diff(h) = finite_difference(y -> f(x[1], y), x[2], h=h)"
   ]
  },
  {
   "cell_type": "code",
   "execution_count": null,
   "id": "0a5becec",
   "metadata": {},
   "outputs": [],
   "source": [
    "true_grad=g([-2,-1])[2]"
   ]
  },
  {
   "cell_type": "code",
   "execution_count": null,
   "id": "59d7dfa7",
   "metadata": {},
   "outputs": [],
   "source": [
    "hs = 10. .^ (-15:0.01:-1)\n",
    "\n",
    "plot(hs, fin_diff,\n",
    "    xlabel = \"h\",\n",
    "    ylabel = \"Partial gradient wrt y\",\n",
    "    label = \"Approximation\",\n",
    "    xscale = :log10,\n",
    ")\n",
    "hline!([true_grad]; label =  \"True gradient\")\n",
    "\n"
   ]
  },
  {
   "cell_type": "code",
   "execution_count": null,
   "id": "88fd6744",
   "metadata": {},
   "outputs": [],
   "source": [
    "using Plots\n",
    "\n",
    "# Data\n",
    "locations = [\"A\", \"B\", \"C\", \"D\", \"E\", \"F\"]\n",
    "magnitudes = [10.0, 100, 1000, 10000, 100000, 1000000]\n",
    "\n",
    "plot(locations, magnitudes, label=\"Magnitude\", marker=:circle, legend=:topleft, title=\"Earthquake Magnitudes (Linear Scale)\")\n"
   ]
  },
  {
   "cell_type": "code",
   "execution_count": null,
   "id": "f9ca599c",
   "metadata": {},
   "outputs": [],
   "source": [
    "plot(locations, magnitudes, label=\"Magnitude\", marker=:circle, legend=:topleft,yscale=:log10, title=\"Earthquake Magnitudes (Linear Scale)\")\n"
   ]
  },
  {
   "cell_type": "code",
   "execution_count": null,
   "id": "59616a17",
   "metadata": {},
   "outputs": [],
   "source": [
    "# Data\n",
    "time_hours = [1, 2, 3, 4, 5, 6, 7]\n",
    "population = [10, 20, 40, 80, 160, 320, 640]\n",
    "\n",
    "# Plot using linear scale\n",
    "plot(time_hours, population, label=\"Population\", marker=:circle, legend=:topleft, title=\"Bacteria Population Growth (Linear Scale)\", xlabel=\"Time (hours)\", ylabel=\"Population\")\n",
    "\n"
   ]
  },
  {
   "cell_type": "code",
   "execution_count": null,
   "id": "31d58431",
   "metadata": {},
   "outputs": [],
   "source": [
    "# Plot using exponential (logarithmic) scale on the y-axis\n",
    "plot!(time_hours, population, label=\"Population\", marker=:circle, legend=:topright, yscale=:log10, title=\"Bacteria Population Growth (Exponential Scale)\", xlabel=\"Time (hours)\", ylabel=\"Population\")"
   ]
  },
  {
   "cell_type": "code",
   "execution_count": null,
   "id": "4b153978",
   "metadata": {},
   "outputs": [],
   "source": [
    "#direction of the gradients\n",
    "x=[-2,-1]\n",
    "xs=range(-3,1,length=40)\n",
    "ys=range(-2,1,length=40)\n",
    "\n",
    "α=0.25\n",
    "x_grad=[-2,-1]\n",
    "\n",
    "  \n"
   ]
  },
  {
   "cell_type": "code",
   "execution_count": null,
   "id": "74e357ca",
   "metadata": {},
   "outputs": [],
   "source": [
    "#find the solution of the following function by using\n",
    "# using the newton method\n",
    "r(x)=sin(x)+cos(x)^2\n",
    "# and its gradient is \n",
    "g(x) = cos(x)-2*cos(x)*sin(x)\n",
    "\n",
    "x = range(-3,1,length=1000)\n",
    "p=plot(x,r)\n",
    "\n"
   ]
  },
  {
   "cell_type": "code",
   "execution_count": 6,
   "id": "e0f0c9bb",
   "metadata": {},
   "outputs": [
    {
     "data": {
      "text/plain": [
       "optim (generic function with 1 method)"
      ]
     },
     "execution_count": 6,
     "metadata": {},
     "output_type": "execute_result"
    }
   ],
   "source": [
    "# Gradient descent\n",
    "function optim(f,g,x0,step;max_itera=100)\n",
    "    max_itera=100\n",
    "    xout=zeros(length(x0),max_itera+1)\n",
    "    xout[:,1]=x0\n",
    "    \n",
    "    for i in 1:max_itera\n",
    "        xout[:,i+1]=xout[:,i]-step*g(xout[:,i])\n",
    "    end\n",
    "    \n",
    "    return xout\n",
    "end\n",
    "\n",
    "\n"
   ]
  },
  {
   "cell_type": "code",
   "execution_count": 7,
   "id": "3697618e",
   "metadata": {},
   "outputs": [
    {
     "data": {
      "text/plain": [
       "create_anim (generic function with 2 methods)"
      ]
     },
     "execution_count": 7,
     "metadata": {},
     "output_type": "execute_result"
    }
   ],
   "source": [
    "\n",
    "\n",
    "function create_anim(\n",
    "    f,\n",
    "    path,\n",
    "    xlims,\n",
    "    ylims,\n",
    "    file_name = joinpath(pwd(), randstring(12) * \".gif\");\n",
    "    xbounds = xlims,\n",
    "    ybounds = ylims,\n",
    "    fps = 15,\n",
    ")\n",
    "    xs = range(xlims...; length = 100)\n",
    "    ys = range(ylims...; length = 100)\n",
    "    plt = contourf(xs, ys, f; color = :jet)\n",
    "\n",
    "    # add constraints if provided\n",
    "    if !(xbounds == xlims && ybounds == ylims)\n",
    "        x_rect = [xbounds[1]; xbounds[2]; xbounds[2]; xbounds[1]; xbounds[1]]\n",
    "        y_rect = [ybounds[1]; ybounds[1]; ybounds[2]; ybounds[2]; ybounds[1]]\n",
    "\n",
    "        plot!(x_rect, y_rect; line = (2, :dash, :red), label=\"\")\n",
    "    end\n",
    "\n",
    "    # add an empty plot\n",
    "    plot!(Float64[], Float64[]; line = (4, :arrow, :black), label = \"\")\n",
    "\n",
    "    # extract the last plot series\n",
    "    plt_path = plt.series_list[end]\n",
    "\n",
    "    # create the animation and save it\n",
    "    anim = Animation()\n",
    "    for x in eachcol(path)\n",
    "        push!(plt_path, x[1], x[2]) # add a new point\n",
    "        frame(anim)\n",
    "    end\n",
    "    gif(anim, file_name; fps = fps, show_msg = false)\n",
    "    return nothing\n",
    "end"
   ]
  },
  {
   "cell_type": "code",
   "execution_count": 8,
   "id": "51b551c8",
   "metadata": {},
   "outputs": [],
   "source": [
    "f(x)=sin(x[1]+x[2])+cos(x[1])^2\n",
    "g(x) = [cos(x[1] + x[2]) - 2*cos(x[1])*sin(x[1]); cos(x[1] + x[2])]\n",
    "x0=[0,-1]\n",
    "step=0.1\n",
    "\n",
    "f(x1,x2)=f([x1,x2])\n",
    "\n",
    "xout=optim(f,g,x0,0.1)\n",
    "xlims = (-3, 1)\n",
    "ylims = (-2, 1)\n",
    "\n",
    "create_anim(f, xout, xlims, ylims, \"anim1.gif\")\n"
   ]
  },
  {
   "cell_type": "code",
   "execution_count": 11,
   "id": "ff8fd20a",
   "metadata": {},
   "outputs": [],
   "source": [
    "x_gd = optim([], g, [0; 0], 0.01)\n",
    "create_anim(f, x_gd, xlims, ylims, \"anim2.gif\")"
   ]
  },
  {
   "cell_type": "code",
   "execution_count": 14,
   "id": "7117b933",
   "metadata": {},
   "outputs": [],
   "source": [
    "x_gd = optim([], g, [0; 0], 0.1)\n",
    "create_anim(f, x_gd, xlims, ylims, \"anim3.gif\")"
   ]
  },
  {
   "cell_type": "code",
   "execution_count": null,
   "id": "950d5f70",
   "metadata": {},
   "outputs": [],
   "source": []
  }
 ],
 "metadata": {
  "@webio": {
   "lastCommId": null,
   "lastKernelId": null
  },
  "kernelspec": {
   "display_name": "Julia 1.6.7",
   "language": "julia",
   "name": "julia-1.6"
  },
  "language_info": {
   "file_extension": ".jl",
   "mimetype": "application/julia",
   "name": "julia",
   "version": "1.6.7"
  }
 },
 "nbformat": 4,
 "nbformat_minor": 5
}
